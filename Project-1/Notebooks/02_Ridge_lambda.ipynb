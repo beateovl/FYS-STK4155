{
 "cells": [
  {
   "cell_type": "code",
   "execution_count": null,
   "id": "38f24af4",
   "metadata": {},
   "outputs": [
    {
     "ename": "",
     "evalue": "",
     "output_type": "error",
     "traceback": [
      "\u001b[1;31mRunning cells with 'Python 3.12.11' requires the ipykernel package.\n",
      "\u001b[1;31m<a href='command:jupyter.createPythonEnvAndSelectController'>Create a Python Environment</a> with the required packages.\n",
      "\u001b[1;31mOr install 'ipykernel' using the command: '/usr/local/bin/python3.12 -m pip install ipykernel -U --user --force-reinstall'"
     ]
    }
   ],
   "source": [
    "# --- Part (b): Ridge regularization ---\n",
    "\n",
    "import numpy as np\n",
    "import sys, pathlib\n",
    "# Project-1 folder (parent of this Notebooks/ folder)\n",
    "proj_dir = pathlib.Path.cwd().parent\n",
    "if str(proj_dir) not in sys.path:\n",
    "    sys.path.insert(0, str(proj_dir))\n",
    "\n",
    "# Figures folder\n",
    "fig_dir = proj_dir / \"Figures\"\n",
    "fig_dir.mkdir(parents=True, exist_ok=True)\n",
    "\n",
    "from Code.data import make_data, build_features, split_and_scale\n",
    "from Code.models import sweep_ridge\n",
    "from Code.plots import plot_ridge_curves, plot_theta_norms\n",
    "\n",
    "# data (same as a)\n",
    "x, y = make_data(n=100, noise_sd=0.1, seed=42)\n",
    "deg_max = 15\n",
    "X_full = build_features(x, degree=deg_max, include_bias=False)\n",
    "\n",
    "# Ridge vs lambda (fixed degree)\n",
    "p_fixed = 12\n",
    "lambdas = np.logspace(-6, 2, 40)\n",
    "\n",
    "mse_r, r2_r, norms_r = sweep_ridge(\n",
    "    X_full, y, split_func=split_and_scale,\n",
    "    degree=p_fixed, lambdas=lambdas, n_factor=True\n",
    ")\n",
    "\n",
    "# plots for (b)\n",
    "plot_ridge_curves(lambdas, mse_r, r2_r, title=f\"Runge: Ridge vs λ (degree={p_fixed})\", savepath=fig_dir / \"runge_ridge_mse_r2_vs_lambda.png\")\n",
    "plot_theta_norms(\n",
    "    lambdas, norms_r,\n",
    "    xlabel=\"λ (log scale)\",\n",
    "    title=r\"Ridge coefficient size vs λ ($\\|\\theta\\|_2$)\",\n",
    "    savepath=fig_dir / \"runge_ridge_theta_norms_vs_lambda.png\"\n",
    ")\n"
   ]
  }
 ],
 "metadata": {
  "kernelspec": {
   "display_name": "Python 3",
   "language": "python",
   "name": "python3"
  },
  "language_info": {
   "codemirror_mode": {
    "name": "ipython",
    "version": 3
   },
   "file_extension": ".py",
   "mimetype": "text/x-python",
   "name": "python",
   "nbconvert_exporter": "python",
   "pygments_lexer": "ipython3",
   "version": "3.12.11"
  }
 },
 "nbformat": 4,
 "nbformat_minor": 5
}
