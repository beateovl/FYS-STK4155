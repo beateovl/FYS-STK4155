{
 "cells": [
  {
   "cell_type": "markdown",
   "id": "13bb3979",
   "metadata": {},
   "source": [
    "\n",
    "# Project 1 — Parts c)–f)\n",
    "This notebook solves **c, d, e, f** using the provided modules in this repo:\n",
    "`data.py`, `grad.py`, `metrics.py`, `models.py`, `plots.py`, `resampling.py`, `utils.py`.\n"
   ]
  },
  {
   "cell_type": "code",
   "execution_count": 7,
   "id": "00bc3730",
   "metadata": {},
   "outputs": [],
   "source": [
    "\n",
    "import sys, pathlib\n",
    "\n",
    "# project root (parent of Notebooks/) so `from Code...` works\n",
    "proj_dir = pathlib.Path.cwd().parent\n",
    "if str(proj_dir) not in sys.path:\n",
    "    sys.path.insert(0, str(proj_dir))\n",
    "fig_dir = proj_dir / \"Figures\"\n",
    "fig_dir.mkdir(parents=True, exist_ok=True)\n",
    "\n",
    "from Code.data import make_data, build_features, split_and_scale\n",
    "from Code.metrics import mse, r2\n",
    "from Code.models import predict_from_theta\n",
    "from Code.grad import gd, grad_ridge, grad_ols"
   ]
  },
  {
   "cell_type": "markdown",
   "id": "69879ad9",
   "metadata": {},
   "source": [
    "## Data & Features (from `data.py`)"
   ]
  },
  {
   "cell_type": "code",
   "execution_count": 4,
   "id": "b8b9f36c",
   "metadata": {},
   "outputs": [
    {
     "name": "stdout",
     "output_type": "stream",
     "text": [
      "Shapes: (210, 15) (90, 15)\n"
     ]
    }
   ],
   "source": [
    "\n",
    "import numpy as np\n",
    "import matplotlib.pyplot as plt\n",
    "\n",
    "# Generate data and polynomial features\n",
    "x, y = make_data()\n",
    "degree = 15\n",
    "X_full = build_features(x, degree=degree, include_bias=False)\n",
    "\n",
    "# Split + scale (fit scaler only on train) and center y\n",
    "X_tr_s, X_te_s, y_tr_c, y_te, scaler, y_mean = split_and_scale(X_full, y, test_size=0.3, random_state=1, center_y=True)\n",
    "\n",
    "# We'll consistently use centered y for training and add back y_mean on predictions.\n",
    "print(\"Shapes:\", X_tr_s.shape, X_te_s.shape)\n"
   ]
  },
  {
   "cell_type": "markdown",
   "id": "f545c8fd",
   "metadata": {},
   "source": [
    "\n",
    "## c) Gradient Descent for OLS and Ridge (using `grad.py`)\n",
    "\n",
    "We first use the plain gradient descent method.\n"
   ]
  },
  {
   "cell_type": "code",
   "execution_count": 21,
   "id": "5677a2f7",
   "metadata": {},
   "outputs": [
    {
     "name": "stdout",
     "output_type": "stream",
     "text": [
      "OLS  — Test MSE: 0.15105, R²: 0.2277\n",
      "Ridge (λ=0.001) — Test MSE: 0.13985, R²: 0.2850\n"
     ]
    }
   ],
   "source": [
    "# Standardized design matrix, p is number of features\n",
    "p = X_tr_s.shape[1]  \n",
    "\n",
    "# OLS via gradient descent\n",
    "theta_ols = gd(X_tr_s, y_tr_c, eta=0.1, iters=30, theta0=np.zeros(p), lam=None) # lam=None → OLS\n",
    "yhat_te_ols = predict_from_theta(X_te_s, theta_ols, y_mean) # add back y_mean\n",
    "mse_ols = mse(y_te, yhat_te_ols) \n",
    "r2_ols  = r2(y_te, yhat_te_ols) \n",
    "\n",
    "# Ridge via gradient descent (λ given)\n",
    "lam = 1e-3\n",
    "theta_ridge = gd(X_tr_s, y_tr_c, eta=5e-3, iters=6000, theta0=np.zeros(p), lam=lam) # lam=float → Ridge\n",
    "yhat_te_ridge = predict_from_theta(X_te_s, theta_ridge, y_mean) # add back y_mean\n",
    "mse_ridge = mse(y_te, yhat_te_ridge) \n",
    "r2_ridge  = r2(y_te, yhat_te_ridge)\n",
    "\n",
    "print(f\"OLS  — Test MSE: {mse_ols:.5f}, R²: {r2_ols:.4f}\")\n",
    "print(f\"Ridge (λ={lam}) — Test MSE: {mse_ridge:.5f}, R²: {r2_ridge:.4f}\")\n"
   ]
  },
  {
   "cell_type": "markdown",
   "id": "95ca11a0",
   "metadata": {},
   "source": [
    "\n",
    "## d) Optimizers: Momentum, AdaGrad, RMSProp, Adam\n",
    "\n",
    "We keep the same objectives but change the update rule. We'll reuse `grad.grad_ridge` for the gradient and implement the optimizers here.\n"
   ]
  },
  {
   "cell_type": "code",
   "execution_count": 22,
   "id": "219f4494",
   "metadata": {},
   "outputs": [
    {
     "name": "stdout",
     "output_type": "stream",
     "text": [
      "sgd       MSE=0.14090  R²=0.2796\n",
      "momentum  MSE=0.14090  R²=0.2796\n",
      "adagrad   MSE=0.14173  R²=0.2754\n",
      "rmsprop   MSE=0.12626  R²=0.3545\n",
      "adam      MSE=0.12563  R²=0.3577\n"
     ]
    }
   ],
   "source": [
    "\"\"\" Compare different optimizers.\n",
    "Beta: momentum parameter (for momentum, Adam)\n",
    "eps: small number to avoid division by zero (for Adagrad, RMSprop, Adam)\n",
    "rho: decay rate for moving average of squared gradients (for RMSprop)\n",
    "b1, b2: decay rates for moving averages of gradient and squared gradient (for Adam\n",
    " \"\"\"\n",
    "def run_optimizer(X, y, lam, eta, iters, optimizer=\"sgd\",  \n",
    "                  beta=0.3, eps=1e-8, rho=0.99, b1=0.9, b2=0.999, seed=42): # optimizer hyperparameters\n",
    "    n, p = X.shape # n samples, p features\n",
    "    rng = np.random.default_rng(seed) # for reproducibility\n",
    "    theta = np.zeros(p, float) # initial parameters\n",
    "    v = np.zeros_like(theta) # velocity for momentum\n",
    "    s = np.zeros_like(theta) # squared gradient accumulator for Adagrad, RMSprop, Adam\n",
    "    m = np.zeros_like(theta) # first moment estimate for Adam\n",
    "    t = 0 # timestep for Adam\n",
    "\n",
    "    for k in range(iters): # main loop\n",
    "        g = grad_ridge(X, y, theta, lam) if lam is not None else grad_ols(X, y, theta) # gradient\n",
    "        t += 1 # increment timestep\n",
    "         # Update parameters according to chosen optimizer\n",
    "        if optimizer == \"sgd\": # Stochastic Gradient Descent\n",
    "            theta -= eta * g # SGD update\n",
    "        elif optimizer == \"momentum\": # Momentum\n",
    "            v = beta * v + (1 - beta) * g # update velocity\n",
    "            theta -= eta * v # update parameters\n",
    "        elif optimizer == \"adagrad\": # Adagrad\n",
    "            s += g * g # accumulate squared gradients\n",
    "            theta -= (eta / (np.sqrt(s) + eps)) * g # update parameters\n",
    "        elif optimizer == \"rmsprop\": # RMSprop\n",
    "            s = rho * s + (1 - rho) * (g * g) # decaying average of squared gradients\n",
    "            theta -= (eta / (np.sqrt(s) + eps)) * g # update parameters\n",
    "        elif optimizer == \"adam\": # Adam\n",
    "            m = b1 * m + (1 - b1) * g # update biased first moment estimate\n",
    "            s = b2 * s + (1 - b2) * (g * g) # update biased second moment estimate\n",
    "            m_hat = m / (1 - b1**t) # bias-corrected first moment\n",
    "            s_hat = s / (1 - b2**t) # bias-corrected second moment\n",
    "            theta -= eta * m_hat / (np.sqrt(s_hat) + eps)  # update parameters\n",
    "        else:\n",
    "            raise ValueError(\"Unknown optimizer\") # unknown optimizer\n",
    "    return theta \n",
    "\n",
    "opts = [\"sgd\",\"momentum\",\"adagrad\",\"rmsprop\",\"adam\"] # list of optimizers\n",
    "results = {} # dictionary to store results\n",
    "lam_d = 1e-3 # regularization strength\n",
    "for opt in opts: \n",
    "    th = run_optimizer(X_tr_s, y_tr_c, lam=lam_d, eta=5e-3, iters=5000, optimizer=opt) # run optimizer\n",
    "    yhat = predict_from_theta(X_te_s, th, y_mean) # make predictions\n",
    "    results[opt] = (mse(y_te, yhat), r2(y_te, yhat)) # store results\n",
    "\n",
    "# Compare results\n",
    "for k,(mse_v,r2_v) in results.items(): \n",
    "    print(f\"{k:8s}  MSE={mse_v:.5f}  R²={r2_v:.4f}\") \n"
   ]
  },
  {
   "cell_type": "code",
   "execution_count": 5,
   "id": "8373a3e0",
   "metadata": {},
   "outputs": [
    {
     "data": {
      "image/png": "[encoded data removed]",
      "text/plain": [
       "<Figure size 640x480 with 1 Axes>"
      ]
     },
     "metadata": {},
     "output_type": "display_data"
    }
   ],
   "source": [
    "\n",
    "# Simple bar plot of test MSE across optimizers\n",
    "vals = [results[k][0] for k in opts]\n",
    "import matplotlib.pyplot as plt\n",
    "plt.figure()\n",
    "plt.bar(opts, vals)\n",
    "plt.ylabel(\"Test MSE\")\n",
    "plt.title(\"Ridge + different optimizers (GD variants)\");\n"
   ]
  },
  {
   "cell_type": "markdown",
   "id": "22f3def2",
   "metadata": {},
   "source": [
    "\n",
    "## e) LASSO via Proximal Gradient (ISTA)\n",
    "\n",
    "LASSO isn't implemented in the provided modules, so we implement the solver here and evaluate with `metrics.py`.\n"
   ]
  },
  {
   "cell_type": "code",
   "execution_count": null,
   "id": "5e3d1b64",
   "metadata": {},
   "outputs": [
    {
     "name": "stdout",
     "output_type": "stream",
     "text": [
      "LASSO (ISTA, λ=0.001) — Test MSE: 0.14934, R²: 0.2364\n"
     ]
    }
   ],
   "source": [
    "# LASSO via ISTA (Iterative Soft-Thresholding Algorithm)\n",
    "def soft_threshold(u, tau):\n",
    "    return np.sign(u) * np.maximum(np.abs(u) - tau, 0.0) # soft-thresholding operator\n",
    "\n",
    "# ISTA for LASSO regression\n",
    "def ista_lasso(X, y, lam=1e-3, iters=6000, eta=None, seed=0): \n",
    "    n, p = X.shape\n",
    "    if eta is None: \n",
    "        # conservative step via power iteration for spectral norm of X\n",
    "        v = np.random.default_rng(seed).normal(size=p) \n",
    "        for _ in range(20): \n",
    "            v = X.T @ (X @ v) \n",
    "            v /= (np.linalg.norm(v) + 1e-12)\n",
    "        L = (2.0 / n) * (np.linalg.norm(X @ v)**2) # Lipschitz constant\n",
    "        eta = 1.0 / (L + 1e-12) # step size\n",
    "    theta = np.zeros(p) \n",
    "    # ISTA main loop\n",
    "    for _ in range(iters):\n",
    "        g = (X.T @ (X @ theta - y)) * (2.0 / n) # gradient of least squares loss\n",
    "        theta = soft_threshold(theta - eta * g, eta * lam) # LASSO update\n",
    "    return theta \n",
    "\n",
    "lam_l1 = 1e-3\n",
    "theta_lasso = ista_lasso(X_tr_s, y_tr_c, lam=lam_l1, iters=30) \n",
    "yhat_lasso = predict_from_theta(X_te_s, theta_lasso, y_mean) # add back y_mean\n",
    "mse_lasso = mse(y_te, yhat_lasso) \n",
    "r2_lasso  = r2(y_te, yhat_lasso)\n",
    "print(f\"LASSO (ISTA, λ={lam_l1}) — Test MSE: {mse_lasso:.5f}, R²: {r2_lasso:.4f}\")\n"
   ]
  },
  {
   "cell_type": "code",
   "execution_count": 25,
   "id": "fd1bb0ca",
   "metadata": {},
   "outputs": [
    {
     "name": "stdout",
     "output_type": "stream",
     "text": [
      "LASSO (GD, λ=0.001) — Test MSE: 0.17217, R²: 0.1197\n"
     ]
    }
   ],
   "source": [
    "# OPTION 2 NON ISTA\n",
    "\n",
    "def lasso_gd(X, y, theta, eta, lmbda, Niterations):\n",
    "    \"\"\"\n",
    "    LASSO via plain (sub)gradient descent with fixed learning rate.\n",
    "    Matches the style of your OLS+L1 example: OLS_gradient_component + L1_gradient_component.\n",
    "    \"\"\"\n",
    "    n = X.shape[0]  # number of samples\n",
    "    for iter in range(Niterations):\n",
    "        # 1) OLS gradient component: (2/n) * X^T (X theta - y)\n",
    "        residual = X @ theta - y\n",
    "        OLS_gradient_component = (2.0 / n) * (X.T @ residual)\n",
    "\n",
    "        # 2) L1 gradient component (subgradient): lambda * sign(theta)\n",
    "        # (note: at theta_i = 0 the subgradient is any value in [-1, 1]; using sign(0)=0 is a common practical choice)\n",
    "        L1_gradient_component = lmbda * np.sign(theta)\n",
    "\n",
    "        # 3) Total gradient\n",
    "        total_gradient = OLS_gradient_component + L1_gradient_component\n",
    "\n",
    "        # 4) Parameter update with fixed learning rate\n",
    "        theta -= eta * total_gradient\n",
    "\n",
    "    return theta\n",
    "\n",
    "\n",
    "p = X_tr_s.shape[1]\n",
    "theta0 = np.zeros(p)\n",
    "\n",
    "eta       = 5e-3     # learning rate (tune as needed)\n",
    "lmbda     = 1e-3     # L1 penalty strength\n",
    "Niterations = 30   # number of iterations\n",
    "\n",
    "theta_lasso = lasso_gd(X_tr_s, y_tr_c, theta=theta0, eta=eta, lmbda=lmbda, Niterations=Niterations)\n",
    "\n",
    "# Evaluate (your helpers)\n",
    "yhat_lasso = predict_from_theta(X_te_s, theta_lasso, y_mean)\n",
    "mse_lasso  = mse(y_te, yhat_lasso)\n",
    "r2_lasso   = r2(y_te, yhat_lasso)\n",
    "\n",
    "print(f\"LASSO (GD, λ={lmbda}) — Test MSE: {mse_lasso:.5f}, R²: {r2_lasso:.4f}\")\n"
   ]
  },
  {
   "cell_type": "markdown",
   "id": "e48bd6cb",
   "metadata": {},
   "source": [
    "\n",
    "## f) Stochastic Gradient Descent (mini-batch) variants\n",
    "\n",
    "Mini-batch versions of the optimizers for Ridge. We reuse `grad.grad_ridge`.\n"
   ]
  },
  {
   "cell_type": "code",
   "execution_count": 8,
   "id": "0ea63655",
   "metadata": {},
   "outputs": [
    {
     "name": "stdout",
     "output_type": "stream",
     "text": [
      "MSE (full-batch Adam): 0.011268330177090573   MSE (mini-batch Adam): 0.020195959659633535\n"
     ]
    },
    {
     "data": {
      "image/png": "[encoded data removed]",
      "text/plain": [
       "<Figure size 640x480 with 1 Axes>"
      ]
     },
     "metadata": {},
     "output_type": "display_data"
    }
   ],
   "source": [
    "\n",
    "def sgd_minibatch(X, y, lam=1e-3, epochs=40, batch_size=64, eta=1e-2, optimizer=\"adam\",\n",
    "                  beta=0.9, eps=1e-8, rho=0.99, b1=0.9, b2=0.999, seed=0):\n",
    "    n, p = X.shape\n",
    "    rng = np.random.default_rng(seed)\n",
    "    theta = np.zeros(p, float)\n",
    "    v = np.zeros_like(theta)\n",
    "    s = np.zeros_like(theta)\n",
    "    m = np.zeros_like(theta)\n",
    "    t = 0\n",
    "    for ep in range(epochs):\n",
    "        idx = rng.permutation(n)\n",
    "        for start in range(0, n, batch_size):\n",
    "            b = idx[start:start+batch_size]\n",
    "            Xb, yb = X[b], y[b]\n",
    "            # gradient on batch\n",
    "            nb = Xb.shape[0]\n",
    "            r = Xb @ theta - yb\n",
    "            g = (Xb.T @ r) * (2.0 / nb) + lam * 2.0 * theta\n",
    "            t += 1\n",
    "            if optimizer == \"sgd\":\n",
    "                theta -= eta * g\n",
    "            elif optimizer == \"momentum\":\n",
    "                v = beta * v + (1 - beta) * g\n",
    "                theta -= eta * v\n",
    "            elif optimizer == \"adagrad\":\n",
    "                s += g * g\n",
    "                theta -= (eta / (np.sqrt(s) + eps)) * g\n",
    "            elif optimizer == \"rmsprop\":\n",
    "                s = rho * s + (1 - rho) * (g * g)\n",
    "                theta -= (eta / (np.sqrt(s) + eps)) * g\n",
    "            elif optimizer == \"adam\":\n",
    "                m = b1 * m + (1 - b1) * g\n",
    "                s = b2 * s + (1 - b2) * (g * g)\n",
    "                m_hat = m / (1 - b1**t)\n",
    "                s_hat = s / (1 - b2**t)\n",
    "                theta -= eta * m_hat / (np.sqrt(s_hat) + eps)\n",
    "            else:\n",
    "                raise ValueError(\"Unknown optimizer\")\n",
    "    return theta\n",
    "\n",
    "theta_full = run_optimizer(X_tr_s, y_tr_c, lam=1e-3, eta=5e-3, iters=4000, optimizer=\"adam\")\n",
    "theta_sgd  = sgd_minibatch(X_tr_s, y_tr_c, lam=1e-3, epochs=25, batch_size=64, eta=1e-2, optimizer=\"adam\")\n",
    "\n",
    "yhat_full = predict_from_theta(X_te_s, theta_full, y_mean)\n",
    "yhat_sgd  = predict_from_theta(X_te_s, theta_sgd,  y_mean)\n",
    "\n",
    "mse_full = mse(y_te, yhat_full)\n",
    "mse_sgd  = mse(y_te, yhat_sgd)\n",
    "\n",
    "import matplotlib.pyplot as plt\n",
    "plt.figure()\n",
    "plt.bar([\"Full-batch Adam\", \"Mini-batch Adam\"], [mse_full, mse_sgd])\n",
    "plt.ylabel(\"Test MSE\"); plt.title(\"Ridge: Full-batch vs Mini-batch\");\n",
    "print(\"MSE (full-batch Adam):\", mse_full, \"  MSE (mini-batch Adam):\", mse_sgd)\n"
   ]
  },
  {
   "cell_type": "markdown",
   "id": "5ec1d0da",
   "metadata": {},
   "source": [
    "\n",
    "### Notes\n",
    "- `data.py` handles **feature construction**, **train/test split**, **scaling**, and **centering**.  \n",
    "- `grad.py` supplies the **OLS/Ridge gradients** and a **plain GD loop** used in part (c).  \n",
    "- `metrics.py` provides **MSE** and **R²** used across parts (c)–(f).  \n",
    "- `models.py` is kept for reference (closed-form fits) but the GD/SGD experiments here intentionally use gradients.  \n",
    "- `plots.py` has helpers for specific sweeps; we did ad‑hoc plots tailored to GD/SGD results.\n"
   ]
  }
 ],
 "metadata": {
  "kernelspec": {
   "display_name": ".venv",
   "language": "python",
   "name": "python3"
  },
  "language_info": {
   "codemirror_mode": {
    "name": "ipython",
    "version": 3
   },
   "file_extension": ".py",
   "mimetype": "text/x-python",
   "name": "python",
   "nbconvert_exporter": "python",
   "pygments_lexer": "ipython3",
   "version": "3.12.11"
  }
 },
 "nbformat": 4,
 "nbformat_minor": 5
}
