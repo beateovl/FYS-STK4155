{
 "cells": [
  {
   "cell_type": "markdown",
   "id": "13bb3979",
   "metadata": {},
   "source": [
    "\n",
    "# Project 1 — Parts c)–f) (Using Your Modules)\n",
    "This notebook solves **c, d, e, f** using the provided modules in this repo:\n",
    "`data.py`, `grad.py`, `metrics.py`, `models.py`, `plots.py`, `resampling.py`, `utils.py`.\n"
   ]
  },
  {
   "cell_type": "code",
   "execution_count": 1,
   "id": "00bc3730",
   "metadata": {},
   "outputs": [
    {
     "ename": "OSError",
     "evalue": "[Errno 30] Read-only file system: '/mnt'",
     "output_type": "error",
     "traceback": [
      "\u001b[31m---------------------------------------------------------------------------\u001b[39m",
      "\u001b[31mOSError\u001b[39m                                   Traceback (most recent call last)",
      "\u001b[36mCell\u001b[39m\u001b[36m \u001b[39m\u001b[32mIn[1]\u001b[39m\u001b[32m, line 6\u001b[39m\n\u001b[32m      4\u001b[39m \u001b[38;5;66;03m# Create a small on-disk package \"Code\" so models.py's import works\u001b[39;00m\n\u001b[32m      5\u001b[39m code_pkg = \u001b[33m\"\u001b[39m\u001b[33m/mnt/data/Code\u001b[39m\u001b[33m\"\u001b[39m\n\u001b[32m----> \u001b[39m\u001b[32m6\u001b[39m \u001b[43mos\u001b[49m\u001b[43m.\u001b[49m\u001b[43mmakedirs\u001b[49m\u001b[43m(\u001b[49m\u001b[43mcode_pkg\u001b[49m\u001b[43m,\u001b[49m\u001b[43m \u001b[49m\u001b[43mexist_ok\u001b[49m\u001b[43m=\u001b[49m\u001b[38;5;28;43;01mTrue\u001b[39;49;00m\u001b[43m)\u001b[49m\n\u001b[32m      7\u001b[39m \u001b[38;5;66;03m# Mirror metrics into Code/metrics.py if not already present\u001b[39;00m\n\u001b[32m      8\u001b[39m \u001b[38;5;28;01mif\u001b[39;00m \u001b[38;5;129;01mnot\u001b[39;00m os.path.exists(os.path.join(code_pkg, \u001b[33m\"\u001b[39m\u001b[33mmetrics.py\u001b[39m\u001b[33m\"\u001b[39m)):\n",
      "\u001b[36mFile \u001b[39m\u001b[32m<frozen os>:215\u001b[39m, in \u001b[36mmakedirs\u001b[39m\u001b[34m(name, mode, exist_ok)\u001b[39m\n",
      "\u001b[36mFile \u001b[39m\u001b[32m<frozen os>:215\u001b[39m, in \u001b[36mmakedirs\u001b[39m\u001b[34m(name, mode, exist_ok)\u001b[39m\n",
      "\u001b[36mFile \u001b[39m\u001b[32m<frozen os>:225\u001b[39m, in \u001b[36mmakedirs\u001b[39m\u001b[34m(name, mode, exist_ok)\u001b[39m\n",
      "\u001b[31mOSError\u001b[39m: [Errno 30] Read-only file system: '/mnt'"
     ]
    }
   ],
   "source": [
    "\n",
    "import sys, types, os, importlib\n",
    "sys.path.insert(0, \"/mnt/data\")\n",
    "\n",
    "# Create a small on-disk package \"Code\" so models.py's import works\n",
    "code_pkg = \"/mnt/data/Code\"\n",
    "os.makedirs(code_pkg, exist_ok=True)\n",
    "# Mirror metrics into Code/metrics.py if not already present\n",
    "if not os.path.exists(os.path.join(code_pkg, \"metrics.py\")):\n",
    "    with open(\"/mnt/data/metrics.py\",\"r\") as src, open(os.path.join(code_pkg,\"metrics.py\"),\"w\") as dst:\n",
    "        dst.write(src.read())\n",
    "with open(os.path.join(code_pkg, \"__init__.py\"),\"w\") as f:\n",
    "    f.write(\"\")\n",
    "\n",
    "# Now import the provided modules (hard fail if anything is missing)\n",
    "import data, grad, metrics, models, plots, resampling, utils\n",
    "from importlib import reload\n",
    "for m in (data, grad, metrics, models, plots, resampling, utils):\n",
    "    reload(m)\n",
    "print(\"Modules loaded:\", [m.__name__ for m in (data, grad, metrics, models, plots, resampling, utils)])\n"
   ]
  },
  {
   "cell_type": "markdown",
   "id": "69879ad9",
   "metadata": {},
   "source": [
    "## Data & Features (from `data.py`)"
   ]
  },
  {
   "cell_type": "code",
   "execution_count": null,
   "id": "b8b9f36c",
   "metadata": {},
   "outputs": [],
   "source": [
    "\n",
    "import numpy as np\n",
    "import matplotlib.pyplot as plt\n",
    "\n",
    "# Generate data and polynomial features\n",
    "x, y = data.make_data(n=600, noise_sd=0.05, seed=12)\n",
    "degree = 15\n",
    "X_full = data.build_features(x, degree=degree, include_bias=False)\n",
    "\n",
    "# Split + scale (fit scaler only on train) and center y\n",
    "X_tr_s, X_te_s, y_tr_c, y_te, scaler, y_mean = data.split_and_scale(X_full, y, test_size=0.3, random_state=1, center_y=True)\n",
    "\n",
    "# We'll consistently use centered y for training and add back y_mean on predictions.\n",
    "print(\"Shapes:\", X_tr_s.shape, X_te_s.shape)\n"
   ]
  },
  {
   "cell_type": "markdown",
   "id": "f545c8fd",
   "metadata": {},
   "source": [
    "\n",
    "## c) Gradient Descent for OLS and Ridge (using `grad.py`)\n",
    "\n",
    "We minimize MSE with:\n",
    "- **OLS**: gradient `grad.grad_ols`  \n",
    "- **Ridge**: gradient `grad.grad_ridge` with λ  \n",
    "and the plain GD loop `grad.gd`.\n"
   ]
  },
  {
   "cell_type": "code",
   "execution_count": null,
   "id": "5677a2f7",
   "metadata": {},
   "outputs": [],
   "source": [
    "\n",
    "def predict_from_theta(X, theta, y_mean):\n",
    "    return (X @ theta).ravel() + y_mean\n",
    "\n",
    "# Use all p features created (no bias term since we standardized features)\n",
    "p = X_tr_s.shape[1]\n",
    "\n",
    "# OLS via gradient descent\n",
    "theta_ols = grad.gd(X_tr_s, y_tr_c, eta=5e-3, iters=6000, theta0=np.zeros(p), lam=None)\n",
    "yhat_te_ols = predict_from_theta(X_te_s, theta_ols, y_mean)\n",
    "mse_ols = metrics.mse(y_te, yhat_te_ols)\n",
    "r2_ols  = metrics.r2(y_te, yhat_te_ols)\n",
    "\n",
    "# Ridge via gradient descent (λ given)\n",
    "lam = 1e-3\n",
    "theta_ridge = grad.gd(X_tr_s, y_tr_c, eta=5e-3, iters=6000, theta0=np.zeros(p), lam=lam)\n",
    "yhat_te_ridge = predict_from_theta(X_te_s, theta_ridge, y_mean)\n",
    "mse_ridge = metrics.mse(y_te, yhat_te_ridge)\n",
    "r2_ridge  = metrics.r2(y_te, yhat_te_ridge)\n",
    "\n",
    "print(f\"OLS  — Test MSE: {mse_ols:.5f}, R²: {r2_ols:.4f}\")\n",
    "print(f\"Ridge (λ={lam}) — Test MSE: {mse_ridge:.5f}, R²: {r2_ridge:.4f}\")\n"
   ]
  },
  {
   "cell_type": "markdown",
   "id": "95ca11a0",
   "metadata": {},
   "source": [
    "\n",
    "## d) Optimizers: Momentum, AdaGrad, RMSProp, Adam\n",
    "\n",
    "We keep the same objectives but change the update rule. We'll reuse `grad.grad_ridge` for the gradient and implement the optimizers here.\n"
   ]
  },
  {
   "cell_type": "code",
   "execution_count": null,
   "id": "219f4494",
   "metadata": {},
   "outputs": [],
   "source": [
    "\n",
    "def run_optimizer(X, y, lam, eta, iters, optimizer=\"sgd\",\n",
    "                  beta=0.9, eps=1e-8, rho=0.99, b1=0.9, b2=0.999, seed=0):\n",
    "    n, p = X.shape\n",
    "    rng = np.random.default_rng(seed)\n",
    "    theta = np.zeros(p, float)\n",
    "    v = np.zeros_like(theta)\n",
    "    s = np.zeros_like(theta)\n",
    "    m = np.zeros_like(theta)\n",
    "    t = 0\n",
    "\n",
    "    for k in range(iters):\n",
    "        g = grad.grad_ridge(X, y, theta, lam) if lam is not None else grad.grad_ols(X, y, theta)\n",
    "        t += 1\n",
    "        if optimizer == \"sgd\":\n",
    "            theta -= eta * g\n",
    "        elif optimizer == \"momentum\":\n",
    "            v = beta * v + (1 - beta) * g\n",
    "            theta -= eta * v\n",
    "        elif optimizer == \"adagrad\":\n",
    "            s += g * g\n",
    "            theta -= (eta / (np.sqrt(s) + eps)) * g\n",
    "        elif optimizer == \"rmsprop\":\n",
    "            s = rho * s + (1 - rho) * (g * g)\n",
    "            theta -= (eta / (np.sqrt(s) + eps)) * g\n",
    "        elif optimizer == \"adam\":\n",
    "            m = b1 * m + (1 - b1) * g\n",
    "            s = b2 * s + (1 - b2) * (g * g)\n",
    "            m_hat = m / (1 - b1**t)\n",
    "            s_hat = s / (1 - b2**t)\n",
    "            theta -= eta * m_hat / (np.sqrt(s_hat) + eps)\n",
    "        else:\n",
    "            raise ValueError(\"Unknown optimizer\")\n",
    "    return theta\n",
    "\n",
    "opts = [\"sgd\",\"momentum\",\"adagrad\",\"rmsprop\",\"adam\"]\n",
    "results = {}\n",
    "lam_d = 1e-3\n",
    "for opt in opts:\n",
    "    th = run_optimizer(X_tr_s, y_tr_c, lam=lam_d, eta=5e-3, iters=5000, optimizer=opt)\n",
    "    yhat = predict_from_theta(X_te_s, th, y_mean)\n",
    "    results[opt] = (metrics.mse(y_te, yhat), metrics.r2(y_te, yhat))\n",
    "\n",
    "for k,(mse_v,r2_v) in results.items():\n",
    "    print(f\"{k:8s}  MSE={mse_v:.5f}  R²={r2_v:.4f}\")\n"
   ]
  },
  {
   "cell_type": "code",
   "execution_count": null,
   "id": "8373a3e0",
   "metadata": {},
   "outputs": [],
   "source": [
    "\n",
    "# Simple bar plot of test MSE across optimizers\n",
    "vals = [results[k][0] for k in opts]\n",
    "import matplotlib.pyplot as plt\n",
    "plt.figure()\n",
    "plt.bar(opts, vals)\n",
    "plt.ylabel(\"Test MSE\")\n",
    "plt.title(\"Ridge + different optimizers (GD variants)\");\n"
   ]
  },
  {
   "cell_type": "markdown",
   "id": "22f3def2",
   "metadata": {},
   "source": [
    "\n",
    "## e) LASSO via Proximal Gradient (ISTA)\n",
    "\n",
    "LASSO isn't implemented in the provided modules, so we implement the solver here and evaluate with `metrics.py`.\n"
   ]
  },
  {
   "cell_type": "code",
   "execution_count": null,
   "id": "5e3d1b64",
   "metadata": {},
   "outputs": [],
   "source": [
    "\n",
    "def soft_threshold(u, tau):\n",
    "    return np.sign(u) * np.maximum(np.abs(u) - tau, 0.0)\n",
    "\n",
    "def ista_lasso(X, y, lam=1e-3, iters=6000, eta=None, seed=0):\n",
    "    n, p = X.shape\n",
    "    if eta is None:\n",
    "        # conservative step via power iteration for spectral norm of X\n",
    "        v = np.random.default_rng(seed).normal(size=p)\n",
    "        for _ in range(20):\n",
    "            v = X.T @ (X @ v)\n",
    "            v /= (np.linalg.norm(v) + 1e-12)\n",
    "        L = (2.0 / n) * (np.linalg.norm(X @ v)**2)\n",
    "        eta = 1.0 / (L + 1e-12)\n",
    "    theta = np.zeros(p)\n",
    "    for _ in range(iters):\n",
    "        g = (X.T @ (X @ theta - y)) * (2.0 / n)\n",
    "        theta = soft_threshold(theta - eta * g, eta * lam)\n",
    "    return theta\n",
    "\n",
    "lam_l1 = 1e-3\n",
    "theta_lasso = ista_lasso(X_tr_s, y_tr_c, lam=lam_l1, iters=8000)\n",
    "yhat_lasso = predict_from_theta(X_te_s, theta_lasso, y_mean)\n",
    "mse_lasso = metrics.mse(y_te, yhat_lasso)\n",
    "r2_lasso  = metrics.r2(y_te, yhat_lasso)\n",
    "print(f\"LASSO (ISTA, λ={lam_l1}) — Test MSE: {mse_lasso:.5f}, R²: {r2_lasso:.4f}\")\n"
   ]
  },
  {
   "cell_type": "markdown",
   "id": "e48bd6cb",
   "metadata": {},
   "source": [
    "\n",
    "## f) Stochastic Gradient Descent (mini-batch) variants\n",
    "\n",
    "Mini-batch versions of the optimizers for Ridge. We reuse `grad.grad_ridge`.\n"
   ]
  },
  {
   "cell_type": "code",
   "execution_count": null,
   "id": "0ea63655",
   "metadata": {},
   "outputs": [],
   "source": [
    "\n",
    "def sgd_minibatch(X, y, lam=1e-3, epochs=40, batch_size=64, eta=1e-2, optimizer=\"adam\",\n",
    "                  beta=0.9, eps=1e-8, rho=0.99, b1=0.9, b2=0.999, seed=0):\n",
    "    n, p = X.shape\n",
    "    rng = np.random.default_rng(seed)\n",
    "    theta = np.zeros(p, float)\n",
    "    v = np.zeros_like(theta)\n",
    "    s = np.zeros_like(theta)\n",
    "    m = np.zeros_like(theta)\n",
    "    t = 0\n",
    "    for ep in range(epochs):\n",
    "        idx = rng.permutation(n)\n",
    "        for start in range(0, n, batch_size):\n",
    "            b = idx[start:start+batch_size]\n",
    "            Xb, yb = X[b], y[b]\n",
    "            # gradient on batch\n",
    "            nb = Xb.shape[0]\n",
    "            r = Xb @ theta - yb\n",
    "            g = (Xb.T @ r) * (2.0 / nb) + lam * 2.0 * theta\n",
    "            t += 1\n",
    "            if optimizer == \"sgd\":\n",
    "                theta -= eta * g\n",
    "            elif optimizer == \"momentum\":\n",
    "                v = beta * v + (1 - beta) * g\n",
    "                theta -= eta * v\n",
    "            elif optimizer == \"adagrad\":\n",
    "                s += g * g\n",
    "                theta -= (eta / (np.sqrt(s) + eps)) * g\n",
    "            elif optimizer == \"rmsprop\":\n",
    "                s = rho * s + (1 - rho) * (g * g)\n",
    "                theta -= (eta / (np.sqrt(s) + eps)) * g\n",
    "            elif optimizer == \"adam\":\n",
    "                m = b1 * m + (1 - b1) * g\n",
    "                s = b2 * s + (1 - b2) * (g * g)\n",
    "                m_hat = m / (1 - b1**t)\n",
    "                s_hat = s / (1 - b2**t)\n",
    "                theta -= eta * m_hat / (np.sqrt(s_hat) + eps)\n",
    "            else:\n",
    "                raise ValueError(\"Unknown optimizer\")\n",
    "    return theta\n",
    "\n",
    "theta_full = run_optimizer(X_tr_s, y_tr_c, lam=1e-3, eta=5e-3, iters=4000, optimizer=\"adam\")\n",
    "theta_sgd  = sgd_minibatch(X_tr_s, y_tr_c, lam=1e-3, epochs=25, batch_size=64, eta=1e-2, optimizer=\"adam\")\n",
    "\n",
    "yhat_full = predict_from_theta(X_te_s, theta_full, y_mean)\n",
    "yhat_sgd  = predict_from_theta(X_te_s, theta_sgd,  y_mean)\n",
    "\n",
    "mse_full = metrics.mse(y_te, yhat_full)\n",
    "mse_sgd  = metrics.mse(y_te, yhat_sgd)\n",
    "\n",
    "import matplotlib.pyplot as plt\n",
    "plt.figure()\n",
    "plt.bar([\"Full-batch Adam\", \"Mini-batch Adam\"], [mse_full, mse_sgd])\n",
    "plt.ylabel(\"Test MSE\"); plt.title(\"Ridge: Full-batch vs Mini-batch\");\n",
    "print(\"MSE (full-batch Adam):\", mse_full, \"  MSE (mini-batch Adam):\", mse_sgd)\n"
   ]
  },
  {
   "cell_type": "markdown",
   "id": "5ec1d0da",
   "metadata": {},
   "source": [
    "\n",
    "### Notes\n",
    "- `data.py` handles **feature construction**, **train/test split**, **scaling**, and **centering**.  \n",
    "- `grad.py` supplies the **OLS/Ridge gradients** and a **plain GD loop** used in part (c).  \n",
    "- `metrics.py` provides **MSE** and **R²** used across parts (c)–(f).  \n",
    "- `models.py` is kept for reference (closed-form fits) but the GD/SGD experiments here intentionally use gradients.  \n",
    "- `plots.py` has helpers for specific sweeps; we did ad‑hoc plots tailored to GD/SGD results.\n"
   ]
  }
 ],
 "metadata": {
  "kernelspec": {
   "display_name": ".venv",
   "language": "python",
   "name": "python3"
  },
  "language_info": {
   "codemirror_mode": {
    "name": "ipython",
    "version": 3
   },
   "file_extension": ".py",
   "mimetype": "text/x-python",
   "name": "python",
   "nbconvert_exporter": "python",
   "pygments_lexer": "ipython3",
   "version": "3.12.11"
  }
 },
 "nbformat": 4,
 "nbformat_minor": 5
}
