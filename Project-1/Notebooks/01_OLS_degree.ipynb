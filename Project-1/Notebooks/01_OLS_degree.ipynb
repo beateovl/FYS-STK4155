{
 "cells": [
  {
   "cell_type": "code",
   "execution_count": null,
   "id": "33b77e91",
   "metadata": {},
   "outputs": [
    {
     "ename": "",
     "evalue": "",
     "output_type": "error",
     "traceback": [
      "\u001b[1;31mRunning cells with 'Python 3.12.11' requires the ipykernel package.\n",
      "\u001b[1;31m<a href='command:jupyter.createPythonEnvAndSelectController'>Create a Python Environment</a> with the required packages.\n",
      "\u001b[1;31mOr install 'ipykernel' using the command: '/usr/local/bin/python3.12 -m pip install ipykernel -U --user --force-reinstall'"
     ]
    }
   ],
   "source": [
    "# --- Part (a): OLS only ---\n",
    "import matplotlib.pyplot as plt\n",
    "import numpy as np\n",
    "import sys, pathlib\n",
    "\n",
    "# Project-1 folder (parent of this Notebooks/ folder)\n",
    "proj_dir = pathlib.Path.cwd().parent\n",
    "if str(proj_dir) not in sys.path:\n",
    "    sys.path.insert(0, str(proj_dir))\n",
    "\n",
    "# Figures folder\n",
    "fig_dir = proj_dir / \"Figures\"\n",
    "fig_dir.mkdir(parents=True, exist_ok=True)\n",
    "\n",
    "from Code.data import make_data, build_features, split_and_scale\n",
    "from Code.models import sweep_degree\n",
    "from Code.plots import plot_mse_r2_vs_degree, plot_theta_norms\n",
    "\n",
    "# data\n",
    "noise_sds = [0.0,0.2, 0.7]\n",
    "x, y = make_data(n=300, noise_sd=0.3, seed=42)\n",
    "deg_max = 15\n",
    "X_full = build_features(x, degree=deg_max, include_bias=False)\n",
    "\n",
    "fig, axes = plt.subplots(1, len(noise_sds), figsize=(5*len(noise_sds), 4), sharex=True)\n",
    "for ax, sd in zip(axes, noise_sds):\n",
    "    x, y = make_data(n=300, noise_sd=sd, seed=42)\n",
    "    X_full = build_features(x, degree=deg_max, include_bias=False)\n",
    "    degrees, mse_deg, r2_deg, _ = sweep_degree(X_full, y, split_func=split_and_scale, deg_max=deg_max)\n",
    "\n",
    "    plot_mse_r2_vs_degree(\n",
    "        degrees, mse_deg, r2_deg,\n",
    "        title=f\"Runge: OLS vs degree (sd={sd})\",\n",
    "        ax=ax,            # <- draw on this subplot\n",
    "        show=False,       # <- don't call plt.show() from inside\n",
    "        savepath=None     # <- we'll save the whole figure once\n",
    "    )\n",
    "\n",
    "fig.tight_layout()\n",
    "fig.savefig(fig_dir / \"runge_ols_mse_r2_subplots.png\", dpi=300, bbox_inches=\"tight\")\n",
    "\n",
    "\n",
    "# OLS vs degree\n",
    "degrees, mse_deg, r2_deg, norms_deg = sweep_degree(X_full, y, split_func=split_and_scale, deg_max=deg_max)\n",
    "\n",
    "# plots for (a)\n",
    "# plot_mse_r2_vs_degree(degrees, mse_deg, r2_deg, title=\"Runge: OLS vs degree\", savepath=fig_dir / \"runge_ols_mse_r2_vs_degree.png\")\n",
    "\n",
    "plot_theta_norms(\n",
    "    degrees, norms_deg,\n",
    "    xlabel=\"Polynomial degree\",\n",
    "    title = r\"OLS coefficient size vs degree ($\\|\\theta\\|_2$)\", \n",
    "    savepath=fig_dir / \"runge_ols_theta_norms_vs_degree.png\"\n",
    ")\n"
   ]
  }
 ],
 "metadata": {
  "kernelspec": {
   "display_name": "Python 3",
   "language": "python",
   "name": "python3"
  },
  "language_info": {
   "codemirror_mode": {
    "name": "ipython",
    "version": 3
   },
   "file_extension": ".py",
   "mimetype": "text/x-python",
   "name": "python",
   "nbconvert_exporter": "python",
   "pygments_lexer": "ipython3",
   "version": "3.12.11"
  }
 },
 "nbformat": 4,
 "nbformat_minor": 5
}
